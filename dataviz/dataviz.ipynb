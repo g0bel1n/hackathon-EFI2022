{
 "cells": [
  {
   "cell_type": "markdown",
   "metadata": {},
   "source": [
    "# Visualization of the data"
   ]
  },
  {
   "cell_type": "code",
   "execution_count": null,
   "metadata": {},
   "outputs": [],
   "source": [
    "import os\n",
    "from pathlib import Path\n",
    "\n",
    "current_path = Path(os.getcwd())\n",
    "root = current_path.parent.absolute()\n",
    "os.chdir(root)"
   ]
  },
  {
   "cell_type": "code",
   "execution_count": 3,
   "metadata": {},
   "outputs": [],
   "source": [
    "import cufflinks as cf\n",
    "import pandas as pd\n",
    "import numpy as np\n"
   ]
  },
  {
   "cell_type": "code",
   "execution_count": 14,
   "metadata": {},
   "outputs": [],
   "source": [
    "df = pd.read_excel(\"documents/Reinforcement Data.xlsx\", usecols=str)"
   ]
  },
  {
   "cell_type": "code",
   "execution_count": 37,
   "metadata": {},
   "outputs": [
    {
     "data": {
      "text/html": [
       "<div>\n",
       "<style scoped>\n",
       "    .dataframe tbody tr th:only-of-type {\n",
       "        vertical-align: middle;\n",
       "    }\n",
       "\n",
       "    .dataframe tbody tr th {\n",
       "        vertical-align: top;\n",
       "    }\n",
       "\n",
       "    .dataframe thead th {\n",
       "        text-align: right;\n",
       "    }\n",
       "</style>\n",
       "<table border=\"1\" class=\"dataframe\">\n",
       "  <thead>\n",
       "    <tr style=\"text-align: right;\">\n",
       "      <th></th>\n",
       "      <th>0</th>\n",
       "      <th>1</th>\n",
       "      <th>2</th>\n",
       "      <th>3</th>\n",
       "      <th>4</th>\n",
       "      <th>5</th>\n",
       "      <th>6</th>\n",
       "    </tr>\n",
       "  </thead>\n",
       "  <tbody>\n",
       "    <tr>\n",
       "      <th>0</th>\n",
       "      <td>2011-01-03</td>\n",
       "      <td>65.360001</td>\n",
       "      <td>65.830002</td>\n",
       "      <td>65.360001</td>\n",
       "      <td>65.599998</td>\n",
       "      <td>50.587250</td>\n",
       "      <td>2222400</td>\n",
       "    </tr>\n",
       "    <tr>\n",
       "      <th>1</th>\n",
       "      <td>2011-01-04</td>\n",
       "      <td>65.790001</td>\n",
       "      <td>65.800003</td>\n",
       "      <td>65.199997</td>\n",
       "      <td>65.690002</td>\n",
       "      <td>50.656658</td>\n",
       "      <td>5350100</td>\n",
       "    </tr>\n",
       "    <tr>\n",
       "      <th>2</th>\n",
       "      <td>2011-01-05</td>\n",
       "      <td>65.480003</td>\n",
       "      <td>66.080002</td>\n",
       "      <td>65.410004</td>\n",
       "      <td>66.040001</td>\n",
       "      <td>50.926556</td>\n",
       "      <td>3559700</td>\n",
       "    </tr>\n",
       "    <tr>\n",
       "      <th>3</th>\n",
       "      <td>2011-01-06</td>\n",
       "      <td>66.019997</td>\n",
       "      <td>66.089996</td>\n",
       "      <td>65.639999</td>\n",
       "      <td>65.760002</td>\n",
       "      <td>50.710636</td>\n",
       "      <td>4917100</td>\n",
       "    </tr>\n",
       "    <tr>\n",
       "      <th>4</th>\n",
       "      <td>2011-01-07</td>\n",
       "      <td>65.860001</td>\n",
       "      <td>65.980003</td>\n",
       "      <td>65.040001</td>\n",
       "      <td>65.570000</td>\n",
       "      <td>50.564117</td>\n",
       "      <td>2036100</td>\n",
       "    </tr>\n",
       "    <tr>\n",
       "      <th>...</th>\n",
       "      <td>...</td>\n",
       "      <td>...</td>\n",
       "      <td>...</td>\n",
       "      <td>...</td>\n",
       "      <td>...</td>\n",
       "      <td>...</td>\n",
       "      <td>...</td>\n",
       "    </tr>\n",
       "    <tr>\n",
       "      <th>2959</th>\n",
       "      <td>2022-10-05</td>\n",
       "      <td>142.500000</td>\n",
       "      <td>144.529999</td>\n",
       "      <td>141.669998</td>\n",
       "      <td>143.639999</td>\n",
       "      <td>143.639999</td>\n",
       "      <td>1757000</td>\n",
       "    </tr>\n",
       "    <tr>\n",
       "      <th>2960</th>\n",
       "      <td>2022-10-06</td>\n",
       "      <td>143.000000</td>\n",
       "      <td>144.029999</td>\n",
       "      <td>141.800003</td>\n",
       "      <td>142.020004</td>\n",
       "      <td>142.020004</td>\n",
       "      <td>2608900</td>\n",
       "    </tr>\n",
       "    <tr>\n",
       "      <th>2961</th>\n",
       "      <td>2022-10-07</td>\n",
       "      <td>140.869995</td>\n",
       "      <td>141.070007</td>\n",
       "      <td>138.089996</td>\n",
       "      <td>138.850006</td>\n",
       "      <td>138.850006</td>\n",
       "      <td>2083300</td>\n",
       "    </tr>\n",
       "    <tr>\n",
       "      <th>2962</th>\n",
       "      <td>2022-10-10</td>\n",
       "      <td>139.300003</td>\n",
       "      <td>139.580002</td>\n",
       "      <td>137.270004</td>\n",
       "      <td>137.990005</td>\n",
       "      <td>137.990005</td>\n",
       "      <td>2531200</td>\n",
       "    </tr>\n",
       "    <tr>\n",
       "      <th>2963</th>\n",
       "      <td>2022-10-11</td>\n",
       "      <td>137.300003</td>\n",
       "      <td>139.250000</td>\n",
       "      <td>136.440002</td>\n",
       "      <td>137.419998</td>\n",
       "      <td>137.419998</td>\n",
       "      <td>2941500</td>\n",
       "    </tr>\n",
       "  </tbody>\n",
       "</table>\n",
       "<p>2964 rows × 7 columns</p>\n",
       "</div>"
      ],
      "text/plain": [
       "               0           1           2           3           4           5  \\\n",
       "0     2011-01-03   65.360001   65.830002   65.360001   65.599998   50.587250   \n",
       "1     2011-01-04   65.790001   65.800003   65.199997   65.690002   50.656658   \n",
       "2     2011-01-05   65.480003   66.080002   65.410004   66.040001   50.926556   \n",
       "3     2011-01-06   66.019997   66.089996   65.639999   65.760002   50.710636   \n",
       "4     2011-01-07   65.860001   65.980003   65.040001   65.570000   50.564117   \n",
       "...          ...         ...         ...         ...         ...         ...   \n",
       "2959  2022-10-05  142.500000  144.529999  141.669998  143.639999  143.639999   \n",
       "2960  2022-10-06  143.000000  144.029999  141.800003  142.020004  142.020004   \n",
       "2961  2022-10-07  140.869995  141.070007  138.089996  138.850006  138.850006   \n",
       "2962  2022-10-10  139.300003  139.580002  137.270004  137.990005  137.990005   \n",
       "2963  2022-10-11  137.300003  139.250000  136.440002  137.419998  137.419998   \n",
       "\n",
       "            6  \n",
       "0     2222400  \n",
       "1     5350100  \n",
       "2     3559700  \n",
       "3     4917100  \n",
       "4     2036100  \n",
       "...       ...  \n",
       "2959  1757000  \n",
       "2960  2608900  \n",
       "2961  2083300  \n",
       "2962  2531200  \n",
       "2963  2941500  \n",
       "\n",
       "[2964 rows x 7 columns]"
      ]
     },
     "execution_count": 37,
     "metadata": {},
     "output_type": "execute_result"
    }
   ],
   "source": [
    "df.iloc[:, 0].str.split(',', expand=True)\n"
   ]
  },
  {
   "cell_type": "code",
   "execution_count": 7,
   "metadata": {},
   "outputs": [
    {
     "ename": "DataError",
     "evalue": "No numeric types to aggregate",
     "output_type": "error",
     "traceback": [
      "\u001b[0;31m---------------------------------------------------------------------------\u001b[0m",
      "\u001b[0;31mValueError\u001b[0m                                Traceback (most recent call last)",
      "File \u001b[0;32m~/miniforge3/envs/efi22-env/lib/python3.10/site-packages/pandas/core/window/rolling.py:404\u001b[0m, in \u001b[0;36mBaseWindow._prep_values\u001b[0;34m(self, values)\u001b[0m\n\u001b[1;32m    403\u001b[0m     \u001b[39melse\u001b[39;00m:\n\u001b[0;32m--> 404\u001b[0m         values \u001b[39m=\u001b[39m ensure_float64(values)\n\u001b[1;32m    405\u001b[0m \u001b[39mexcept\u001b[39;00m (\u001b[39mValueError\u001b[39;00m, \u001b[39mTypeError\u001b[39;00m) \u001b[39mas\u001b[39;00m err:\n",
      "File \u001b[0;32mpandas/_libs/algos_common_helper.pxi:42\u001b[0m, in \u001b[0;36mpandas._libs.algos.ensure_float64\u001b[0;34m()\u001b[0m\n",
      "\u001b[0;31mValueError\u001b[0m: could not convert string to float: '2011-01-03,65.360001,65.830002,65.360001,65.599998,50.587250,2222400'",
      "\nThe above exception was the direct cause of the following exception:\n",
      "\u001b[0;31mTypeError\u001b[0m                                 Traceback (most recent call last)",
      "File \u001b[0;32m~/miniforge3/envs/efi22-env/lib/python3.10/site-packages/pandas/core/window/rolling.py:483\u001b[0m, in \u001b[0;36mBaseWindow._apply_series\u001b[0;34m(self, homogeneous_func, name)\u001b[0m\n\u001b[1;32m    482\u001b[0m \u001b[39mtry\u001b[39;00m:\n\u001b[0;32m--> 483\u001b[0m     values \u001b[39m=\u001b[39m \u001b[39mself\u001b[39;49m\u001b[39m.\u001b[39;49m_prep_values(obj\u001b[39m.\u001b[39;49m_values)\n\u001b[1;32m    484\u001b[0m \u001b[39mexcept\u001b[39;00m (\u001b[39mTypeError\u001b[39;00m, \u001b[39mNotImplementedError\u001b[39;00m) \u001b[39mas\u001b[39;00m err:\n",
      "File \u001b[0;32m~/miniforge3/envs/efi22-env/lib/python3.10/site-packages/pandas/core/window/rolling.py:406\u001b[0m, in \u001b[0;36mBaseWindow._prep_values\u001b[0;34m(self, values)\u001b[0m\n\u001b[1;32m    405\u001b[0m     \u001b[39mexcept\u001b[39;00m (\u001b[39mValueError\u001b[39;00m, \u001b[39mTypeError\u001b[39;00m) \u001b[39mas\u001b[39;00m err:\n\u001b[0;32m--> 406\u001b[0m         \u001b[39mraise\u001b[39;00m \u001b[39mTypeError\u001b[39;00m(\u001b[39mf\u001b[39m\u001b[39m\"\u001b[39m\u001b[39mcannot handle this type -> \u001b[39m\u001b[39m{\u001b[39;00mvalues\u001b[39m.\u001b[39mdtype\u001b[39m}\u001b[39;00m\u001b[39m\"\u001b[39m) \u001b[39mfrom\u001b[39;00m \u001b[39merr\u001b[39;00m\n\u001b[1;32m    408\u001b[0m \u001b[39m# Convert inf to nan for C funcs\u001b[39;00m\n",
      "\u001b[0;31mTypeError\u001b[0m: cannot handle this type -> object",
      "\nThe above exception was the direct cause of the following exception:\n",
      "\u001b[0;31mDataError\u001b[0m                                 Traceback (most recent call last)",
      "Cell \u001b[0;32mIn [7], line 3\u001b[0m\n\u001b[1;32m      1\u001b[0m qf\u001b[39m=\u001b[39mcf\u001b[39m.\u001b[39mQuantFig(df,title\u001b[39m=\u001b[39m\u001b[39m'\u001b[39m\u001b[39mFirst Quant Figure\u001b[39m\u001b[39m'\u001b[39m,legend\u001b[39m=\u001b[39m\u001b[39m'\u001b[39m\u001b[39mtop\u001b[39m\u001b[39m'\u001b[39m,name\u001b[39m=\u001b[39m\u001b[39m'\u001b[39m\u001b[39mGS\u001b[39m\u001b[39m'\u001b[39m)\n\u001b[1;32m      2\u001b[0m qf\u001b[39m.\u001b[39madd_bollinger_bands()\n\u001b[0;32m----> 3\u001b[0m qf\u001b[39m.\u001b[39;49miplot()\n",
      "File \u001b[0;32m~/miniforge3/envs/efi22-env/lib/python3.10/site-packages/cufflinks/quant_figure.py:1235\u001b[0m, in \u001b[0;36mQuantFig.iplot\u001b[0;34m(self, **kwargs)\u001b[0m\n\u001b[1;32m   1233\u001b[0m kwargs\u001b[39m.\u001b[39mupdate(\u001b[39mslice\u001b[39m\u001b[39m=\u001b[39m_slice,resample\u001b[39m=\u001b[39m_resample)\n\u001b[1;32m   1234\u001b[0m \u001b[39mfor\u001b[39;00m k,v \u001b[39min\u001b[39;00m \u001b[39mlist\u001b[39m(\u001b[39mself\u001b[39m\u001b[39m.\u001b[39mstudies\u001b[39m.\u001b[39mitems()):\n\u001b[0;32m-> 1235\u001b[0m \tstudy_fig\u001b[39m=\u001b[39m\u001b[39mself\u001b[39;49m\u001b[39m.\u001b[39;49m_get_study_figure(k,\u001b[39m*\u001b[39;49m\u001b[39m*\u001b[39;49mkwargs)\n\u001b[1;32m   1236\u001b[0m \tstudy_fig\u001b[39m=\u001b[39mtools\u001b[39m.\u001b[39mfig_to_dict(study_fig)\n\u001b[1;32m   1237\u001b[0m \t\u001b[39mif\u001b[39;00m \u001b[39m'\u001b[39m\u001b[39myaxis\u001b[39m\u001b[39m'\u001b[39m \u001b[39min\u001b[39;00m study_fig[\u001b[39m'\u001b[39m\u001b[39mlayout\u001b[39m\u001b[39m'\u001b[39m]:\n",
      "File \u001b[0;32m~/miniforge3/envs/efi22-env/lib/python3.10/site-packages/cufflinks/quant_figure.py:1077\u001b[0m, in \u001b[0;36mQuantFig._get_study_figure\u001b[0;34m(self, study_id, **kwargs)\u001b[0m\n\u001b[1;32m   1075\u001b[0m \u001b[39mif\u001b[39;00m kind\u001b[39m==\u001b[39m\u001b[39m'\u001b[39m\u001b[39mboll\u001b[39m\u001b[39m'\u001b[39m:\n\u001b[1;32m   1076\u001b[0m \tlocal_kwargs,params\u001b[39m=\u001b[39mget_params([\u001b[39m'\u001b[39m\u001b[39mfill\u001b[39m\u001b[39m'\u001b[39m,\u001b[39m'\u001b[39m\u001b[39mfillcolor\u001b[39m\u001b[39m'\u001b[39m],params,display)\n\u001b[0;32m-> 1077\u001b[0m \tfig\u001b[39m=\u001b[39mdf\u001b[39m.\u001b[39;49mta_figure(study\u001b[39m=\u001b[39;49mkind,\u001b[39m*\u001b[39;49m\u001b[39m*\u001b[39;49mparams)\n\u001b[1;32m   1078\u001b[0m \t\u001b[39mif\u001b[39;00m local_kwargs[\u001b[39m'\u001b[39m\u001b[39mfill\u001b[39m\u001b[39m'\u001b[39m]:\n\u001b[1;32m   1079\u001b[0m \t\tfillcolor\u001b[39m=\u001b[39mlocal_kwargs\u001b[39m.\u001b[39mpop(\u001b[39m'\u001b[39m\u001b[39mfillcolor\u001b[39m\u001b[39m'\u001b[39m,fig[\u001b[39m'\u001b[39m\u001b[39mdata\u001b[39m\u001b[39m'\u001b[39m][\u001b[39m2\u001b[39m][\u001b[39m'\u001b[39m\u001b[39mline\u001b[39m\u001b[39m'\u001b[39m][\u001b[39m'\u001b[39m\u001b[39mcolor\u001b[39m\u001b[39m'\u001b[39m] \u001b[39mor\u001b[39;00m \u001b[39m'\u001b[39m\u001b[39mrgba(200,200,200,.1)\u001b[39m\u001b[39m'\u001b[39m)\n",
      "File \u001b[0;32m~/miniforge3/envs/efi22-env/lib/python3.10/site-packages/cufflinks/plotlytools.py:1485\u001b[0m, in \u001b[0;36m_ta_figure\u001b[0;34m(self, **kwargs)\u001b[0m\n\u001b[1;32m   1476\u001b[0m \u001b[39m\"\"\"\u001b[39;00m\n\u001b[1;32m   1477\u001b[0m \u001b[39mGenerates a Plotly figure for the given DataFrame\u001b[39;00m\n\u001b[1;32m   1478\u001b[0m \n\u001b[0;32m   (...)\u001b[0m\n\u001b[1;32m   1482\u001b[0m \u001b[39m\t\thelp(cufflinks.pd.DataFrame.iplot)\u001b[39;00m\n\u001b[1;32m   1483\u001b[0m \u001b[39m\"\"\"\u001b[39;00m\n\u001b[1;32m   1484\u001b[0m kwargs[\u001b[39m'\u001b[39m\u001b[39masFigure\u001b[39m\u001b[39m'\u001b[39m]\u001b[39m=\u001b[39m\u001b[39mTrue\u001b[39;00m\n\u001b[0;32m-> 1485\u001b[0m \u001b[39mreturn\u001b[39;00m \u001b[39mself\u001b[39;49m\u001b[39m.\u001b[39;49mta_plot(\u001b[39m*\u001b[39;49m\u001b[39m*\u001b[39;49mkwargs)\n",
      "File \u001b[0;32m~/miniforge3/envs/efi22-env/lib/python3.10/site-packages/cufflinks/plotlytools.py:1631\u001b[0m, in \u001b[0;36m_ta_plot\u001b[0;34m(self, study, periods, column, include, str, detail, theme, sharing, filename, asFigure, **iplot_kwargs)\u001b[0m\n\u001b[1;32m   1628\u001b[0m ta_func \u001b[39m=\u001b[39m \u001b[39meval\u001b[39m(\u001b[39m'\u001b[39m\u001b[39mta.\u001b[39m\u001b[39m{0}\u001b[39;00m\u001b[39m'\u001b[39m\u001b[39m.\u001b[39mformat(study))\n\u001b[1;32m   1630\u001b[0m inset\u001b[39m=\u001b[39mstudy \u001b[39min\u001b[39;00m (\u001b[39m'\u001b[39m\u001b[39msma\u001b[39m\u001b[39m'\u001b[39m,\u001b[39m'\u001b[39m\u001b[39mboll\u001b[39m\u001b[39m'\u001b[39m,\u001b[39m'\u001b[39m\u001b[39mema\u001b[39m\u001b[39m'\u001b[39m,\u001b[39m'\u001b[39m\u001b[39matr\u001b[39m\u001b[39m'\u001b[39m,\u001b[39m'\u001b[39m\u001b[39mptps\u001b[39m\u001b[39m'\u001b[39m)\n\u001b[0;32m-> 1631\u001b[0m figure\u001b[39m=\u001b[39mget_study(\u001b[39mself\u001b[39;49m,ta_func,iplot_kwargs,iplot_study_kwargs,include\u001b[39m=\u001b[39;49minclude,\n\u001b[1;32m   1632\u001b[0m \t\t\t\t column\u001b[39m=\u001b[39;49mcolumn,\u001b[39mstr\u001b[39;49m\u001b[39m=\u001b[39;49m\u001b[39mstr\u001b[39;49m,inset\u001b[39m=\u001b[39;49minset)\n\u001b[1;32m   1634\u001b[0m \u001b[39m## Add Bands\u001b[39;00m\n\u001b[1;32m   1635\u001b[0m \u001b[39mif\u001b[39;00m study \u001b[39min\u001b[39;00m (\u001b[39m'\u001b[39m\u001b[39mrsi\u001b[39m\u001b[39m'\u001b[39m,\u001b[39m'\u001b[39m\u001b[39mcci\u001b[39m\u001b[39m'\u001b[39m):\n",
      "File \u001b[0;32m~/miniforge3/envs/efi22-env/lib/python3.10/site-packages/cufflinks/plotlytools.py:1606\u001b[0m, in \u001b[0;36m_ta_plot.<locals>.get_study\u001b[0;34m(df, func, iplot_kwargs, iplot_study_kwargs, str, include, column, inset)\u001b[0m\n\u001b[1;32m   1604\u001b[0m \tiplot_study_kwargs[\u001b[39m'\u001b[39m\u001b[39mlegend\u001b[39m\u001b[39m'\u001b[39m]\u001b[39m=\u001b[39miplot_kwargs[\u001b[39m'\u001b[39m\u001b[39mlegend\u001b[39m\u001b[39m'\u001b[39m]\n\u001b[1;32m   1605\u001b[0m fig_0\u001b[39m=\u001b[39mdf\u001b[39m.\u001b[39mfigure(\u001b[39m*\u001b[39m\u001b[39m*\u001b[39miplot_kwargs)\n\u001b[0;32m-> 1606\u001b[0m df_ta\u001b[39m=\u001b[39mfunc(df,column\u001b[39m=\u001b[39;49mcolumn,include\u001b[39m=\u001b[39;49m\u001b[39mFalse\u001b[39;49;00m,\u001b[39mstr\u001b[39;49m\u001b[39m=\u001b[39;49m\u001b[39mstr\u001b[39;49m,\u001b[39m*\u001b[39;49m\u001b[39m*\u001b[39;49mstudy_kwargs)\t\n\u001b[1;32m   1607\u001b[0m kind\u001b[39m=\u001b[39miplot_kwargs[\u001b[39m'\u001b[39m\u001b[39mkind\u001b[39m\u001b[39m'\u001b[39m] \u001b[39mif\u001b[39;00m \u001b[39m'\u001b[39m\u001b[39mkind\u001b[39m\u001b[39m'\u001b[39m \u001b[39min\u001b[39;00m iplot_kwargs \u001b[39melse\u001b[39;00m \u001b[39m'\u001b[39m\u001b[39m'\u001b[39m\n\u001b[1;32m   1608\u001b[0m iplot_study_kwargs[\u001b[39m'\u001b[39m\u001b[39mkind\u001b[39m\u001b[39m'\u001b[39m]\u001b[39m=\u001b[39m\u001b[39m'\u001b[39m\u001b[39mscatter\u001b[39m\u001b[39m'\u001b[39m\n",
      "File \u001b[0;32m~/miniforge3/envs/efi22-env/lib/python3.10/site-packages/cufflinks/ta.py:458\u001b[0m, in \u001b[0;36mboll\u001b[0;34m(df, periods, boll_std, column, include, str, detail, **boll_kwargs)\u001b[0m\n\u001b[1;32m    456\u001b[0m periods\u001b[39m=\u001b[39mmake_list(periods)\n\u001b[1;32m    457\u001b[0m output\u001b[39m=\u001b[39m[\u001b[39m'\u001b[39m\u001b[39mSMA\u001b[39m\u001b[39m'\u001b[39m,\u001b[39m'\u001b[39m\u001b[39mUPPER\u001b[39m\u001b[39m'\u001b[39m,\u001b[39m'\u001b[39m\u001b[39mLOWER\u001b[39m\u001b[39m'\u001b[39m]\n\u001b[0;32m--> 458\u001b[0m __df\u001b[39m=\u001b[39mpd\u001b[39m.\u001b[39mconcat([_boll(df,column\u001b[39m=\u001b[39mx,periods\u001b[39m=\u001b[39my) \u001b[39mfor\u001b[39;00m y \u001b[39min\u001b[39;00m periods \u001b[39mfor\u001b[39;00m x \u001b[39min\u001b[39;00m column],axis\u001b[39m=\u001b[39m\u001b[39m1\u001b[39m)\n\u001b[1;32m    459\u001b[0m \u001b[39mif\u001b[39;00m include:\n\u001b[1;32m    460\u001b[0m \t\u001b[39mreturn\u001b[39;00m pd\u001b[39m.\u001b[39mconcat([df,__df],axis\u001b[39m=\u001b[39m\u001b[39m1\u001b[39m)\n",
      "File \u001b[0;32m~/miniforge3/envs/efi22-env/lib/python3.10/site-packages/cufflinks/ta.py:458\u001b[0m, in \u001b[0;36m<listcomp>\u001b[0;34m(.0)\u001b[0m\n\u001b[1;32m    456\u001b[0m periods\u001b[39m=\u001b[39mmake_list(periods)\n\u001b[1;32m    457\u001b[0m output\u001b[39m=\u001b[39m[\u001b[39m'\u001b[39m\u001b[39mSMA\u001b[39m\u001b[39m'\u001b[39m,\u001b[39m'\u001b[39m\u001b[39mUPPER\u001b[39m\u001b[39m'\u001b[39m,\u001b[39m'\u001b[39m\u001b[39mLOWER\u001b[39m\u001b[39m'\u001b[39m]\n\u001b[0;32m--> 458\u001b[0m __df\u001b[39m=\u001b[39mpd\u001b[39m.\u001b[39mconcat([_boll(df,column\u001b[39m=\u001b[39;49mx,periods\u001b[39m=\u001b[39;49my) \u001b[39mfor\u001b[39;00m y \u001b[39min\u001b[39;00m periods \u001b[39mfor\u001b[39;00m x \u001b[39min\u001b[39;00m column],axis\u001b[39m=\u001b[39m\u001b[39m1\u001b[39m)\n\u001b[1;32m    459\u001b[0m \u001b[39mif\u001b[39;00m include:\n\u001b[1;32m    460\u001b[0m \t\u001b[39mreturn\u001b[39;00m pd\u001b[39m.\u001b[39mconcat([df,__df],axis\u001b[39m=\u001b[39m\u001b[39m1\u001b[39m)\n",
      "File \u001b[0;32m~/miniforge3/envs/efi22-env/lib/python3.10/site-packages/cufflinks/ta.py:449\u001b[0m, in \u001b[0;36mboll.<locals>._boll\u001b[0;34m(df, periods, column)\u001b[0m\n\u001b[1;32m    441\u001b[0m df,_df,column\u001b[39m=\u001b[39mvalidate(df,column)\n\u001b[1;32m    443\u001b[0m \u001b[39m## === talib ==== \u001b[39;00m\n\u001b[1;32m    444\u001b[0m \u001b[39m# upper,middle,lower=talib.BBANDS(df[column].values,periods,boll_std,boll_std)\u001b[39;00m\n\u001b[1;32m    445\u001b[0m \u001b[39m# _df=pd.DataFrame({'SMA':middle,'UPPER':upper,'LOWER':lower},index=df.index)\u001b[39;00m\n\u001b[1;32m    446\u001b[0m \u001b[39m## === /talib ==== \u001b[39;00m\n\u001b[1;32m    447\u001b[0m \n\u001b[1;32m    448\u001b[0m \u001b[39m## === pure python ==== \u001b[39;00m\n\u001b[0;32m--> 449\u001b[0m _df[\u001b[39m'\u001b[39m\u001b[39mSMA\u001b[39m\u001b[39m'\u001b[39m]\u001b[39m=\u001b[39mdf[column]\u001b[39m.\u001b[39;49mrolling(window\u001b[39m=\u001b[39;49mperiods)\u001b[39m.\u001b[39;49mmean()\n\u001b[1;32m    450\u001b[0m _df[\u001b[39m'\u001b[39m\u001b[39mUPPER\u001b[39m\u001b[39m'\u001b[39m]\u001b[39m=\u001b[39m_df[\u001b[39m'\u001b[39m\u001b[39mSMA\u001b[39m\u001b[39m'\u001b[39m]\u001b[39m+\u001b[39mdf[column]\u001b[39m.\u001b[39mrolling(window\u001b[39m=\u001b[39mperiods)\u001b[39m.\u001b[39mstd()\u001b[39m*\u001b[39mboll_std\n\u001b[1;32m    451\u001b[0m _df[\u001b[39m'\u001b[39m\u001b[39mLOWER\u001b[39m\u001b[39m'\u001b[39m]\u001b[39m=\u001b[39m_df[\u001b[39m'\u001b[39m\u001b[39mSMA\u001b[39m\u001b[39m'\u001b[39m]\u001b[39m-\u001b[39mdf[column]\u001b[39m.\u001b[39mrolling(window\u001b[39m=\u001b[39mperiods)\u001b[39m.\u001b[39mstd()\u001b[39m*\u001b[39mboll_std\n",
      "File \u001b[0;32m~/miniforge3/envs/efi22-env/lib/python3.10/site-packages/pandas/core/window/rolling.py:2223\u001b[0m, in \u001b[0;36mRolling.mean\u001b[0;34m(self, numeric_only, engine, engine_kwargs, *args, **kwargs)\u001b[0m\n\u001b[1;32m   2221\u001b[0m maybe_warn_args_and_kwargs(\u001b[39mtype\u001b[39m(\u001b[39mself\u001b[39m), \u001b[39m\"\u001b[39m\u001b[39mmean\u001b[39m\u001b[39m\"\u001b[39m, args, kwargs)\n\u001b[1;32m   2222\u001b[0m nv\u001b[39m.\u001b[39mvalidate_rolling_func(\u001b[39m\"\u001b[39m\u001b[39mmean\u001b[39m\u001b[39m\"\u001b[39m, args, kwargs)\n\u001b[0;32m-> 2223\u001b[0m \u001b[39mreturn\u001b[39;00m \u001b[39msuper\u001b[39;49m()\u001b[39m.\u001b[39;49mmean(\n\u001b[1;32m   2224\u001b[0m     numeric_only\u001b[39m=\u001b[39;49mnumeric_only,\n\u001b[1;32m   2225\u001b[0m     engine\u001b[39m=\u001b[39;49mengine,\n\u001b[1;32m   2226\u001b[0m     engine_kwargs\u001b[39m=\u001b[39;49mengine_kwargs,\n\u001b[1;32m   2227\u001b[0m     \u001b[39m*\u001b[39;49m\u001b[39m*\u001b[39;49mkwargs,\n\u001b[1;32m   2228\u001b[0m )\n",
      "File \u001b[0;32m~/miniforge3/envs/efi22-env/lib/python3.10/site-packages/pandas/core/window/rolling.py:1551\u001b[0m, in \u001b[0;36mRollingAndExpandingMixin.mean\u001b[0;34m(self, numeric_only, engine, engine_kwargs, *args, **kwargs)\u001b[0m\n\u001b[1;32m   1549\u001b[0m         \u001b[39mreturn\u001b[39;00m \u001b[39mself\u001b[39m\u001b[39m.\u001b[39m_numba_apply(sliding_mean, engine_kwargs)\n\u001b[1;32m   1550\u001b[0m window_func \u001b[39m=\u001b[39m window_aggregations\u001b[39m.\u001b[39mroll_mean\n\u001b[0;32m-> 1551\u001b[0m \u001b[39mreturn\u001b[39;00m \u001b[39mself\u001b[39;49m\u001b[39m.\u001b[39;49m_apply(\n\u001b[1;32m   1552\u001b[0m     window_func, name\u001b[39m=\u001b[39;49m\u001b[39m\"\u001b[39;49m\u001b[39mmean\u001b[39;49m\u001b[39m\"\u001b[39;49m, numeric_only\u001b[39m=\u001b[39;49mnumeric_only, \u001b[39m*\u001b[39;49m\u001b[39m*\u001b[39;49mkwargs\n\u001b[1;32m   1553\u001b[0m )\n",
      "File \u001b[0;32m~/miniforge3/envs/efi22-env/lib/python3.10/site-packages/pandas/core/window/rolling.py:663\u001b[0m, in \u001b[0;36mBaseWindow._apply\u001b[0;34m(self, func, name, numeric_only, numba_args, **kwargs)\u001b[0m\n\u001b[1;32m    660\u001b[0m     \u001b[39mreturn\u001b[39;00m result\n\u001b[1;32m    662\u001b[0m \u001b[39mif\u001b[39;00m \u001b[39mself\u001b[39m\u001b[39m.\u001b[39mmethod \u001b[39m==\u001b[39m \u001b[39m\"\u001b[39m\u001b[39msingle\u001b[39m\u001b[39m\"\u001b[39m:\n\u001b[0;32m--> 663\u001b[0m     \u001b[39mreturn\u001b[39;00m \u001b[39mself\u001b[39;49m\u001b[39m.\u001b[39;49m_apply_blockwise(homogeneous_func, name, numeric_only)\n\u001b[1;32m    664\u001b[0m \u001b[39melse\u001b[39;00m:\n\u001b[1;32m    665\u001b[0m     \u001b[39mreturn\u001b[39;00m \u001b[39mself\u001b[39m\u001b[39m.\u001b[39m_apply_tablewise(homogeneous_func, name, numeric_only)\n",
      "File \u001b[0;32m~/miniforge3/envs/efi22-env/lib/python3.10/site-packages/pandas/core/window/rolling.py:503\u001b[0m, in \u001b[0;36mBaseWindow._apply_blockwise\u001b[0;34m(self, homogeneous_func, name, numeric_only)\u001b[0m\n\u001b[1;32m    501\u001b[0m \u001b[39mself\u001b[39m\u001b[39m.\u001b[39m_validate_numeric_only(name, numeric_only)\n\u001b[1;32m    502\u001b[0m \u001b[39mif\u001b[39;00m \u001b[39mself\u001b[39m\u001b[39m.\u001b[39m_selected_obj\u001b[39m.\u001b[39mndim \u001b[39m==\u001b[39m \u001b[39m1\u001b[39m:\n\u001b[0;32m--> 503\u001b[0m     \u001b[39mreturn\u001b[39;00m \u001b[39mself\u001b[39;49m\u001b[39m.\u001b[39;49m_apply_series(homogeneous_func, name)\n\u001b[1;32m    505\u001b[0m obj \u001b[39m=\u001b[39m \u001b[39mself\u001b[39m\u001b[39m.\u001b[39m_create_data(\u001b[39mself\u001b[39m\u001b[39m.\u001b[39m_selected_obj, numeric_only)\n\u001b[1;32m    506\u001b[0m \u001b[39mif\u001b[39;00m name \u001b[39m==\u001b[39m \u001b[39m\"\u001b[39m\u001b[39mcount\u001b[39m\u001b[39m\"\u001b[39m:\n\u001b[1;32m    507\u001b[0m     \u001b[39m# GH 12541: Special case for count where we support date-like types\u001b[39;00m\n",
      "File \u001b[0;32m~/miniforge3/envs/efi22-env/lib/python3.10/site-packages/pandas/core/window/rolling.py:485\u001b[0m, in \u001b[0;36mBaseWindow._apply_series\u001b[0;34m(self, homogeneous_func, name)\u001b[0m\n\u001b[1;32m    483\u001b[0m     values \u001b[39m=\u001b[39m \u001b[39mself\u001b[39m\u001b[39m.\u001b[39m_prep_values(obj\u001b[39m.\u001b[39m_values)\n\u001b[1;32m    484\u001b[0m \u001b[39mexcept\u001b[39;00m (\u001b[39mTypeError\u001b[39;00m, \u001b[39mNotImplementedError\u001b[39;00m) \u001b[39mas\u001b[39;00m err:\n\u001b[0;32m--> 485\u001b[0m     \u001b[39mraise\u001b[39;00m DataError(\u001b[39m\"\u001b[39m\u001b[39mNo numeric types to aggregate\u001b[39m\u001b[39m\"\u001b[39m) \u001b[39mfrom\u001b[39;00m \u001b[39merr\u001b[39;00m\n\u001b[1;32m    487\u001b[0m result \u001b[39m=\u001b[39m homogeneous_func(values)\n\u001b[1;32m    488\u001b[0m index \u001b[39m=\u001b[39m \u001b[39mself\u001b[39m\u001b[39m.\u001b[39m_slice_axis_for_step(obj\u001b[39m.\u001b[39mindex, result)\n",
      "\u001b[0;31mDataError\u001b[0m: No numeric types to aggregate"
     ]
    }
   ],
   "source": [
    "\n",
    "qf=cf.QuantFig(df,title='First Quant Figure',legend='top',name='GS')\n",
    "qf.add_bollinger_bands()\n",
    "qf.iplot()"
   ]
  },
  {
   "cell_type": "code",
   "execution_count": 28,
   "metadata": {},
   "outputs": [],
   "source": [
    "shape = (20, 5, 8, 2, 1)\n",
    "\n",
    "X = np.random.random((20))\n",
    "M1 = np.random.random((20, 5))\n",
    "M2 = np.random.random((5, 8))\n",
    "M3 = np.random.random((8, 2))\n",
    "M4 = np.random.random((2, 1))\n",
    "\n"
   ]
  },
  {
   "cell_type": "code",
   "execution_count": 32,
   "metadata": {},
   "outputs": [
    {
     "data": {
      "text/plain": [
       "array([52.32209309])"
      ]
     },
     "execution_count": 32,
     "metadata": {},
     "output_type": "execute_result"
    }
   ],
   "source": [
    "X @ M1 @ M2 @ M3 @ M4"
   ]
  },
  {
   "cell_type": "code",
   "execution_count": 33,
   "metadata": {},
   "outputs": [
    {
     "data": {
      "text/plain": [
       "array([[0.670698  , 0.76370125, 0.6299293 , 0.83267006, 0.1076327 ],\n",
       "       [0.56126336, 0.23925622, 0.81393976, 0.01235232, 0.63797318],\n",
       "       [0.39640495, 0.34543816, 0.17608851, 0.3270694 , 0.38421998],\n",
       "       [0.98168171, 0.57841568, 0.4325176 , 0.95805328, 0.74741828],\n",
       "       [0.66503956, 0.13658131, 0.7943204 , 0.65372316, 0.80437443],\n",
       "       [0.98732372, 0.19741762, 0.98859629, 0.96853586, 0.52475928],\n",
       "       [0.49328683, 0.90900877, 0.21067241, 0.69304956, 0.35954367],\n",
       "       [0.91654322, 0.81258265, 0.93466326, 0.73306443, 0.85315568],\n",
       "       [0.92335807, 0.39645955, 0.65826693, 0.60279562, 0.26427762],\n",
       "       [0.42952292, 0.04612498, 0.26210587, 0.38701492, 0.69687848],\n",
       "       [0.42505432, 0.85834196, 0.01738351, 0.30606767, 0.33280888],\n",
       "       [0.4436648 , 0.48276513, 0.99748942, 0.39876143, 0.52174896],\n",
       "       [0.21727308, 0.45090185, 0.2627567 , 0.82712261, 0.52408496],\n",
       "       [0.13912645, 0.34884623, 0.41561558, 0.81098381, 0.26063876],\n",
       "       [0.64036499, 0.06871727, 0.78680479, 0.32651868, 0.82865303],\n",
       "       [0.12333956, 0.44684464, 0.82699519, 0.62942942, 0.5496416 ],\n",
       "       [0.9478193 , 0.20915521, 0.65111656, 0.68593205, 0.01095797],\n",
       "       [0.43449979, 0.38389323, 0.80811492, 0.22203184, 0.22157249],\n",
       "       [0.85747985, 0.77905527, 0.53236804, 0.97663057, 0.5499569 ],\n",
       "       [0.42257372, 0.36179299, 0.32916988, 0.21271127, 0.15527728]])"
      ]
     },
     "execution_count": 33,
     "metadata": {},
     "output_type": "execute_result"
    }
   ],
   "source": [
    "M1"
   ]
  },
  {
   "cell_type": "code",
   "execution_count": null,
   "metadata": {},
   "outputs": [],
   "source": []
  }
 ],
 "metadata": {
  "kernelspec": {
   "display_name": "Python 3.10.6 ('efi22-env')",
   "language": "python",
   "name": "python3"
  },
  "language_info": {
   "codemirror_mode": {
    "name": "ipython",
    "version": 3
   },
   "file_extension": ".py",
   "mimetype": "text/x-python",
   "name": "python",
   "nbconvert_exporter": "python",
   "pygments_lexer": "ipython3",
   "version": "3.10.6"
  },
  "orig_nbformat": 4,
  "vscode": {
   "interpreter": {
    "hash": "975903538e5b4f3e5b14e73b92a01cd545d1759d73d3c9d0258fda709230b8de"
   }
  }
 },
 "nbformat": 4,
 "nbformat_minor": 2
}
